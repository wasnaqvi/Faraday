{
 "cells": [
  {
   "cell_type": "code",
   "execution_count": 10,
   "metadata": {},
   "outputs": [],
   "source": [
    "# This is a program to calculate the Faraday Polarization Rotation. We will focuse o the Verdet Constant of Rb vapor.\n",
    "import numpy as np\n",
    "import matplotlib.pyplot as plt\n",
    "import math\n",
    "import scipy\n",
    "from sympy.physics.wigner import wigner_3j\n",
    "\n",
    "\n",
    "def atomic_constant(Atom, p, n, start):\n",
    "    '''\n",
    "    Atom: Character string designating the atomic symbol\n",
    "    P: Real Linear array to store atomic constants upon return\n",
    "    N: Integer equal to the index of the isotope to be used\n",
    "    start: Integer equal to 1 if the first time the function is called\n",
    "    '''\n",
    "    # Create a 12x8 zero matrix\n",
    "    C = np.zeros((12, 8))\n",
    "\n",
    "    # Fill columns with atomic data for 'LI006', 'LI007', 'NA023', 'K0039', 'K0041', 'RB085', 'RB087', 'CS133'\n",
    "    # [upper level energy(cm-1), (cm-1), ap(cm-1), ac(cm-1), bp(cm-1), lower level energy(cm-1) ]\n",
    "    C[0:12, 0] = [14903.89, 0.223559, 1.6918e-4, -1.2882e-4, -3.6860e-7, 0.0, 0.0050747387200, 0.8220300, 1.0, 26.4, 26.4,\n",
    "         0.0742]\n",
    "    C[0:12, 1] = [14903.89, 0.22355900, 4.4676e-4, -3.4017e-4, -1.8430e-5, 0.0, 0.0134010049, 3.2563600, 1.5, 26.4, 26.4,\n",
    "         0.9258]\n",
    "    C[0:12, 2] = [16967.647, 11.464, 1.177e-3, -5.837e-6, 2.35e-4, 0.0, 0.0295475433, 2.2174000, 1.5, 16.0, 16.0, 1.0]\n",
    "    C[0:12, 3] = [13023.65, 38.480, 3.642e-4, 8.8950e-6, 2.310e-4, 0.0, 0.00770065604, 0.3914300, 1.5, 26.0, 26.0, 0.9312]\n",
    "    C[0:12, 4] = [13023.6500, 38.48000, 2.004e-4, 4.894e-6, 2.820e-4, 0.0, 0.00423649534, 0.21487, 1.5, 26.0, 26.0, 0.0688]\n",
    "    C[0:12, 5] = [12737.36, 158.4000, 1.525e-3, 2.496e-5, 2.0864e-3, 0.0, 0.0337537115, 1.3524, 2.5, 25.5, 28.1, 0.7215]\n",
    "    C[0:12, 6] = [12737.36, 158.40, 5.149e-3, 8.428e-5, 1.0432e-3, 0.0, 0.113990236, 2.7500, 1.5, 25.5, 28.1, 0.2785]\n",
    "    C[0:12, 7] = [11547.65, 369.41, 3.5692e-3, -2.254e-4, -3.2e-5, 0.0, 0.0766582975, 2.5779, 3.5, 29.9, 34.0, 1.0]\n",
    "\n",
    "    FT = 1.499e9\n",
    "    Label = ['LI006', 'LI007', 'NA023', 'K039', 'K041', 'RB085', 'RB087', 'CS133']\n",
    "\n",
    "    # Find the correct isotope based on Atom string\n",
    "    isotope_found = False\n",
    "    for i in range(8):\n",
    "        if Atom == Label[i][:2]:\n",
    "            isotope_found = True\n",
    "            if n == 0:\n",
    "                k = i  # Select first isotope of the atom\n",
    "            else:\n",
    "                k = min(i + n, 7)  # For subsequent isotopes\n",
    "            break\n",
    "\n",
    "    if not isotope_found:\n",
    "        print(f\"Atom {Atom} not found in the Label list.\")\n",
    "        return p\n",
    "\n",
    "    # Fill the array `p` with constants from matrix `C`\n",
    "    for i in range(11):\n",
    "        p[i] = C[i, k]\n",
    "\n",
    "    # Perform computations on `p` array\n",
    "    p[12] = np.sqrt(FT / (p[0] - p[1]) ** 3 / p[10])\n",
    "    p[13] = np.sqrt(2.0 * FT / (p[0] + 0.5 * p[1]) ** 3 / p[9])\n",
    "    p[14] = FT / (p[0] - p[1]) ** 2 / p[10]\n",
    "    p[15] = 2.0 * FT / (p[0] + 0.5 * p[1]) ** 2 / p[9]\n",
    "    p[16] = C[11, k]\n",
    "\n",
    "    print(f\"ATCTS was called for {Atom} with isotope index {n}.\")\n",
    "    return p\n",
    "\n",
    "def THJ(j_1, j_2, j_3, m_1, m_2, m_3):\n",
    "    return float(wigner_3j(j_1, j_2, j_3, m_1, m_2, m_3))\n",
    "\n"
   ]
  },
  {
   "cell_type": "code",
   "execution_count": 11,
   "metadata": {},
   "outputs": [
    {
     "ename": "NameError",
     "evalue": "name 'p' is not defined",
     "output_type": "error",
     "traceback": [
      "\u001b[0;31m---------------------------------------------------------------------------\u001b[0m",
      "\u001b[0;31mNameError\u001b[0m                                 Traceback (most recent call last)",
      "Cell \u001b[0;32mIn[11], line 1\u001b[0m\n\u001b[0;32m----> 1\u001b[0m p[\u001b[38;5;241m8\u001b[39m]\n",
      "\u001b[0;31mNameError\u001b[0m: name 'p' is not defined"
     ]
    }
   ],
   "source": []
  }
 ],
 "metadata": {
  "kernelspec": {
   "display_name": "base",
   "language": "python",
   "name": "python3"
  },
  "language_info": {
   "codemirror_mode": {
    "name": "ipython",
    "version": 3
   },
   "file_extension": ".py",
   "mimetype": "text/x-python",
   "name": "python",
   "nbconvert_exporter": "python",
   "pygments_lexer": "ipython3",
   "version": "3.11.8"
  }
 },
 "nbformat": 4,
 "nbformat_minor": 2
}
